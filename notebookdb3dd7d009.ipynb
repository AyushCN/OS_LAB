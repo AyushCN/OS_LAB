{
 "cells": [
  {
   "cell_type": "code",
   "execution_count": 1,
   "id": "1c7fc719",
   "metadata": {
    "_cell_guid": "b1076dfc-b9ad-4769-8c92-a6c4dae69d19",
    "_uuid": "8f2839f25d086af736a60e9eeb907d3b93b6e0e5",
    "execution": {
     "iopub.execute_input": "2024-11-22T17:04:39.840793Z",
     "iopub.status.busy": "2024-11-22T17:04:39.840421Z",
     "iopub.status.idle": "2024-11-22T17:04:39.857918Z",
     "shell.execute_reply": "2024-11-22T17:04:39.856730Z"
    },
    "papermill": {
     "duration": 0.023538,
     "end_time": "2024-11-22T17:04:39.860399",
     "exception": false,
     "start_time": "2024-11-22T17:04:39.836861",
     "status": "completed"
    },
    "tags": []
   },
   "outputs": [
    {
     "name": "stdout",
     "output_type": "stream",
     "text": [
      "List 1:\n",
      "1 <-> 2 <-> 3 <-> 4\n",
      "List 2:\n",
      "1 <-> 3 <-> 4 <-> 5\n",
      "Differences between the two lists:\n",
      "Nodes in List 1 but not in List 2: [2, 3, 4]\n",
      "Nodes in List 2 but not in List 1: [3, 4, 5]\n"
     ]
    }
   ],
   "source": [
    "class Node:\n",
    "    def __init__(self, value):\n",
    "        self.value = value  # Node value\n",
    "        self.next = None    # Pointer to the next node\n",
    "        self.prev = None    # Pointer to the previous node\n",
    "\n",
    "class DoublyLinkedList:\n",
    "    def __init__(self):\n",
    "        self.head = None  # Initially, the list is empty\n",
    "\n",
    "    def append(self, value):\n",
    "        \"\"\"Appends a node with the given value at the end of the list.\"\"\"\n",
    "        new_node = Node(value)\n",
    "        if not self.head:\n",
    "            self.head = new_node  # If the list is empty, set new node as the head\n",
    "            return\n",
    "        # Otherwise, find the last node and attach the new node\n",
    "        current = self.head\n",
    "        while current.next:\n",
    "            current = current.next\n",
    "        current.next = new_node\n",
    "        new_node.prev = current\n",
    "\n",
    "    def print_list(self):\n",
    "        \"\"\"Helper method to print the list (for debugging).\"\"\"\n",
    "        current = self.head\n",
    "        while current:\n",
    "            print(current.value, end=\" <-> \" if current.next else \"\")\n",
    "            current = current.next\n",
    "        print()  # Newline for better readability\n",
    "\n",
    "    def compare(self, other):\n",
    "        \"\"\"Compares two doubly linked lists and returns the differences.\"\"\"\n",
    "        diff = {\"in_first_not_second\": [], \"in_second_not_first\": []}\n",
    "\n",
    "        # Compare the two lists node by node\n",
    "        current1 = self.head\n",
    "        current2 = other.head\n",
    "\n",
    "        while current1 or current2:\n",
    "            if current1 and not current2:\n",
    "                diff[\"in_first_not_second\"].append(current1.value)\n",
    "                current1 = current1.next\n",
    "            elif current2 and not current1:\n",
    "                diff[\"in_second_not_first\"].append(current2.value)\n",
    "                current2 = current2.next\n",
    "            else:\n",
    "                if current1.value != current2.value:\n",
    "                    diff[\"in_first_not_second\"].append(current1.value)\n",
    "                    diff[\"in_second_not_first\"].append(current2.value)\n",
    "                current1 = current1.next\n",
    "                current2 = current2.next\n",
    "\n",
    "        return diff\n",
    "\n",
    "\n",
    "# Example usage\n",
    "\n",
    "# Create two doubly linked lists\n",
    "dll1 = DoublyLinkedList()\n",
    "dll1.append(1)\n",
    "dll1.append(2)\n",
    "dll1.append(3)\n",
    "dll1.append(4)\n",
    "\n",
    "dll2 = DoublyLinkedList()\n",
    "dll2.append(1)\n",
    "dll2.append(3)\n",
    "dll2.append(4)\n",
    "dll2.append(5)\n",
    "\n",
    "# Print both lists\n",
    "print(\"List 1:\")\n",
    "dll1.print_list()\n",
    "print(\"List 2:\")\n",
    "dll2.print_list()\n",
    "\n",
    "# Compare the two lists\n",
    "diff_result = dll1.compare(dll2)\n",
    "\n",
    "# Display the differences\n",
    "print(\"Differences between the two lists:\")\n",
    "print(f\"Nodes in List 1 but not in List 2: {diff_result['in_first_not_second']}\")\n",
    "print(f\"Nodes in List 2 but not in List 1: {diff_result['in_second_not_first']}\")\n"
   ]
  }
 ],
 "metadata": {
  "kaggle": {
   "accelerator": "none",
   "dataSources": [],
   "isGpuEnabled": false,
   "isInternetEnabled": false,
   "language": "python",
   "sourceType": "notebook"
  },
  "kernelspec": {
   "display_name": "Python 3",
   "language": "python",
   "name": "python3"
  },
  "language_info": {
   "codemirror_mode": {
    "name": "ipython",
    "version": 3
   },
   "file_extension": ".py",
   "mimetype": "text/x-python",
   "name": "python",
   "nbconvert_exporter": "python",
   "pygments_lexer": "ipython3",
   "version": "3.10.14"
  },
  "papermill": {
   "default_parameters": {},
   "duration": 3.175099,
   "end_time": "2024-11-22T17:04:40.282398",
   "environment_variables": {},
   "exception": null,
   "input_path": "__notebook__.ipynb",
   "output_path": "__notebook__.ipynb",
   "parameters": {},
   "start_time": "2024-11-22T17:04:37.107299",
   "version": "2.6.0"
  }
 },
 "nbformat": 4,
 "nbformat_minor": 5
}
